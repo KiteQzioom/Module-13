{
 "cells": [
  {
   "cell_type": "code",
   "execution_count": 1,
   "id": "4d0aaedc",
   "metadata": {},
   "outputs": [],
   "source": [
    "correlation = [ \n",
    "('x1', 1.300, 76.84878),\n",
    "('x2', 1.950, 81.40732),\n",
    "('x3', 2.466, 77.57895),\n",
    "('x4', 1.600, 74.16341),\n",
    "('x5', 2.952, 68.84907),\n",
    "('x6', 1.801, 73.88595),\n",
    "('x7', 1.340, 75.26829),\n",
    "('x8', 1.340, 76.26098),\n",
    "('x9', 1.630, 80.57244),\n",
    "('x10', 2.326, 65.46259),\n",
    "('x11', 2.436, 67.54820),\n",
    "('x12', 6.563, 55.02451),\n",
    "('x13', 1.283, 76.27990),\n",
    "('x14', 1.430, 82.29024),\n",
    "('x15', 1.988, 69.80695),\n",
    "('x16', 1.610, 81.40112),\n",
    "('x17', 1.921, 82.19756),\n",
    "('x18', 2.400, 74.22683),\n",
    "('x19', 1.495, 80.12888),\n",
    "('x20', 4.705, 45.55095)\n",
    "]\n",
    "\n",
    "fertility_rate = list(map(lambda tup:tup[1], correlation))\n",
    "life_expectancy = list(map(lambda tup:tup[2], correlation))"
   ]
  },
  {
   "cell_type": "code",
   "execution_count": 2,
   "id": "70aa0c3d",
   "metadata": {},
   "outputs": [
    {
     "data": {
      "text/plain": [
       "2.2268"
      ]
     },
     "execution_count": 2,
     "metadata": {},
     "output_type": "execute_result"
    }
   ],
   "source": [
    "mean_fr = sum(fertility_rate)/len(fertility_rate)\n",
    "mean_fr"
   ]
  },
  {
   "cell_type": "code",
   "execution_count": 3,
   "id": "7c3c5417",
   "metadata": {},
   "outputs": [
    {
     "data": {
      "text/plain": [
       "73.237646"
      ]
     },
     "execution_count": 3,
     "metadata": {},
     "output_type": "execute_result"
    }
   ],
   "source": [
    "mean_le = sum(life_expectancy)/len(life_expectancy)\n",
    "mean_le"
   ]
  },
  {
   "cell_type": "code",
   "execution_count": 4,
   "id": "ed1e0dfc",
   "metadata": {},
   "outputs": [
    {
     "data": {
      "text/plain": [
       "1.2578108204336613"
      ]
     },
     "execution_count": 4,
     "metadata": {},
     "output_type": "execute_result"
    }
   ],
   "source": [
    "stdev_fr_sum = 0 \n",
    "for country in fertility_rate:\n",
    "    stdev_fr_sum = stdev_fr_sum + ((country-mean_fr)**2)\n",
    "stdev_fr=(stdev_fr_sum/len(fertility_rate))**0.5\n",
    "stdev_fr"
   ]
  },
  {
   "cell_type": "code",
   "execution_count": 15,
   "id": "9b4edc81",
   "metadata": {
    "scrolled": true
   },
   "outputs": [
    {
     "data": {
      "text/plain": [
       "9.153382258904847"
      ]
     },
     "execution_count": 15,
     "metadata": {},
     "output_type": "execute_result"
    }
   ],
   "source": [
    "stdev_le_sum = 0 \n",
    "for country in life_expectancy:\n",
    "    stdev_le_sum = stdev_le_sum + ((country-mean_le)**2)\n",
    "stdev_le=(stdev_le_sum/len(life_expectancy))**0.5\n",
    "stdev_le"
   ]
  },
  {
   "cell_type": "code",
   "execution_count": 18,
   "id": "23f31d82",
   "metadata": {},
   "outputs": [
    {
     "data": {
      "text/plain": [
       "-9.943704446631578"
      ]
     },
     "execution_count": 18,
     "metadata": {},
     "output_type": "execute_result"
    }
   ],
   "source": [
    "x = 0\n",
    "for i in range (0, len(fertility_rate)):\n",
    "    x = x + (fertility_rate[i]-mean_fr)*(life_expectancy[i]-mean_le)\n",
    "cov = x/(len(fertility_rate)-1)\n",
    "cov"
   ]
  },
  {
   "cell_type": "code",
   "execution_count": 19,
   "id": "c9fc6963",
   "metadata": {},
   "outputs": [
    {
     "data": {
      "text/plain": [
       "-0.8636768550157445"
      ]
     },
     "execution_count": 19,
     "metadata": {},
     "output_type": "execute_result"
    }
   ],
   "source": [
    "cor = cov / (stdev_fr*stdev_le)\n",
    "cor"
   ]
  },
  {
   "cell_type": "code",
   "execution_count": 20,
   "id": "792039df",
   "metadata": {},
   "outputs": [],
   "source": [
    "# Korelacja jest bardzo wysoka co oznacza, że nie jest przypadkowa"
   ]
  },
  {
   "cell_type": "code",
   "execution_count": 21,
   "id": "ff524566",
   "metadata": {},
   "outputs": [],
   "source": [
    "sigma = 9.09\n",
    "z90 = 1.645\n",
    "z95 = 1.960\n",
    "z99 = 2.576"
   ]
  },
  {
   "cell_type": "code",
   "execution_count": 27,
   "id": "29c277ce",
   "metadata": {},
   "outputs": [],
   "source": [
    "lowz95 = mean_le - (z95*sigma/(len(fertility_rate)**0.5))\n",
    "higz95 = mean_le + (z95*sigma/(len(fertility_rate)**0.5))"
   ]
  },
  {
   "cell_type": "code",
   "execution_count": 26,
   "id": "dc172a4e",
   "metadata": {},
   "outputs": [
    {
     "data": {
      "text/plain": [
       "69.25377784856727"
      ]
     },
     "execution_count": 26,
     "metadata": {},
     "output_type": "execute_result"
    }
   ],
   "source": [
    "lowz95"
   ]
  },
  {
   "cell_type": "code",
   "execution_count": 28,
   "id": "c550d6d5",
   "metadata": {},
   "outputs": [
    {
     "data": {
      "text/plain": [
       "77.22151415143273"
      ]
     },
     "execution_count": 28,
     "metadata": {},
     "output_type": "execute_result"
    }
   ],
   "source": [
    "higz95"
   ]
  },
  {
   "cell_type": "code",
   "execution_count": 29,
   "id": "77537385",
   "metadata": {},
   "outputs": [],
   "source": [
    "#Mamy 95% pewność, że średnia długość życia jest pomiędzy 69.25 i 77.22 lata."
   ]
  },
  {
   "cell_type": "code",
   "execution_count": null,
   "id": "ee5a44a3",
   "metadata": {},
   "outputs": [],
   "source": []
  }
 ],
 "metadata": {
  "kernelspec": {
   "display_name": "Python 3 (ipykernel)",
   "language": "python",
   "name": "python3"
  },
  "language_info": {
   "codemirror_mode": {
    "name": "ipython",
    "version": 3
   },
   "file_extension": ".py",
   "mimetype": "text/x-python",
   "name": "python",
   "nbconvert_exporter": "python",
   "pygments_lexer": "ipython3",
   "version": "3.10.0"
  }
 },
 "nbformat": 4,
 "nbformat_minor": 5
}
